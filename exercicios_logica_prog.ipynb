{
 "cells": [
  {
   "cell_type": "markdown",
   "metadata": {},
   "source": [
    "ESTRUTURA SEQUENCIAL"
   ]
  },
  {
   "cell_type": "markdown",
   "metadata": {},
   "source": [
    "Problema \"terreno\" - \n",
    "Fazer um programa para ler as medidas da largura e comprimento de um terreno retangular com uma\n",
    "casa decimal, bem como o valor do metro quadrado do terreno com duas casas decimais. Em seguida,\n",
    "o programa deve mostrar o valor da área do terreno, bem como o valor do preço do terreno, ambos com\n",
    "duas casas decimais, conforme exemplo"
   ]
  },
  {
   "cell_type": "code",
   "execution_count": 3,
   "metadata": {},
   "outputs": [
    {
     "name": "stdout",
     "output_type": "stream",
     "text": [
      "Preço do terreno R$60000.00\n"
     ]
    }
   ],
   "source": [
    "largura = float(input(\"Digite a largura do terreno: \"))\n",
    "comprimento = float(input(\"Digite a comprimento do terreno: \"))\n",
    "valor = float(input(\"Digite o valor do metro quadrado: \"))\n",
    "preco_terreno = largura * comprimento * valor\n",
    "\n",
    "print(\"Preço do terreno R${:.2f}\".format(preco_terreno))\n"
   ]
  },
  {
   "cell_type": "markdown",
   "metadata": {},
   "source": [
    "Problema \"retangulo\" - \n",
    "Fazer um programa para ler as medidas da base e altura de um retângulo. Em seguida, mostrar o valor\n",
    "da área, perímetro e diagonal deste retângulo, com quatro casas decimais, conforme exemplos."
   ]
  },
  {
   "cell_type": "code",
   "execution_count": null,
   "metadata": {},
   "outputs": [],
   "source": [
    "base = float(input(\"Base do retangulo: \"))\n",
    "altura = float(input(\"Altura do retangulo: \"))\n",
    "#diagonal = array.diagonal()\n",
    "print(\"AREA = {}\".format(base * altura))\n",
    "print(\"PERIMETRO = {}\".format(2 * (base + altura)))\n",
    "#print(\"DIAGONAL = \".format(diagonal()))"
   ]
  },
  {
   "cell_type": "markdown",
   "metadata": {},
   "source": [
    "Problema \"idades\" - \n",
    "Fazer um programa para ler o nome e idade de duas pessoas. Ao final mostrar uma mensagem com os\n",
    "nomes e a idade média entre essas pessoas, com uma casa decimal, conforme exemplo."
   ]
  },
  {
   "cell_type": "code",
   "execution_count": null,
   "metadata": {},
   "outputs": [],
   "source": [
    "print(\"Dados da primeira pessoa\")\n",
    "nome01 = input(\"Nome: \")\n",
    "print(nome01)\n",
    "idade01 = int(input(\"idade: \"))\n",
    "print(idade01)\n",
    "\n",
    "print(\"Dados da segunda pessoa\")\n",
    "nome02 = input(\"Nome: \")\n",
    "print(nome02)\n",
    "idade02 = int(input(\"idade: \"))\n",
    "print(idade02)\n",
    "\n",
    "media = (idade01 + idade02) /2\n",
    "\n",
    "print(f\"A idade média entre {idade01} e {idade02} é de {media}\")"
   ]
  },
  {
   "cell_type": "markdown",
   "metadata": {},
   "source": [
    "Problema \"soma\" - \n",
    "Fazer um programa para ler dois valores inteiros X e Y, e depois mostrar na tela o valor da soma destes\n",
    "números."
   ]
  },
  {
   "cell_type": "code",
   "execution_count": 9,
   "metadata": {},
   "outputs": [
    {
     "name": "stdout",
     "output_type": "stream",
     "text": [
      "A soma de x e y é: 20\n"
     ]
    }
   ],
   "source": [
    "x = int(input(\"Digite o valor de x: \"))\n",
    "y = int(input(\"Digite o valor de y: \"))\n",
    "soma = x + y\n",
    "print(\"A soma de x e y é: {}\".format(soma))"
   ]
  },
  {
   "cell_type": "markdown",
   "metadata": {},
   "source": [
    "Problema \"troco\" - \n",
    "Fazer um programa para calcular o troco no processo de pagamento de um produto de uma mercearia.\n",
    "O programa deve ler o preço unitário do produto, a quantidade de unidades compradas deste produto,\n",
    "e o valor em dinheiro dado pelo cliente (suponha que haja dinheiro suficiente). Seu programa deve\n",
    "mostrar o valor do troco a ser devolvido ao cliente."
   ]
  },
  {
   "cell_type": "code",
   "execution_count": 21,
   "metadata": {},
   "outputs": [
    {
     "name": "stdout",
     "output_type": "stream",
     "text": [
      "TROCO: 4.00\n"
     ]
    }
   ],
   "source": [
    "preco = float(input(\"Preço unitário do produto \"))\n",
    "quantidade = float(input(\"Quantidade comprada: \"))\n",
    "\n",
    "valor = float(input(\"Dinheiro recebido:: \"))\n",
    "troco = valor - preco * quantidade\n",
    "print(\"TROCO: {:.2f}\".format(troco))"
   ]
  },
  {
   "cell_type": "markdown",
   "metadata": {},
   "source": [
    "Problema \"circulo\" - \n",
    "Fazer um programa para ler o valor \"r\" do raio de um círculo, e depois mostrar o valor da área do\n",
    "círculo com três casas decimais. A fórmula da área do círculo é a seguinte: 𝑎𝑟𝑒𝑎 = 𝜋. r**2. Você pode\n",
    "usar o valor de 𝜋 fornecido pela biblioteca da sua linguagem de programação, ou então, se preferir, use\n",
    "diretamente o valor 3.14159."
   ]
  },
  {
   "cell_type": "code",
   "execution_count": 30,
   "metadata": {},
   "outputs": [
    {
     "name": "stdout",
     "output_type": "stream",
     "text": [
      "AREA = 547.391\n"
     ]
    }
   ],
   "source": [
    "pi = 3.14159\n",
    "r = float(input(\"Digite o valor do raio do circulo: \"))\n",
    "area = pi * (r**2)\n",
    "print(\"AREA = {:.3f}\".format(area))"
   ]
  },
  {
   "cell_type": "markdown",
   "metadata": {},
   "source": [
    "Problema \"pagamento\" - \n",
    "Fazer um programa para ler o nome de um(a) funcionário(a), o valor que ele(a) recebe por hora, e a\n",
    "quantidade de horas trabalhadas por ele(a). Ao final, mostrar o valor do pagamento do funcionário com\n",
    "uma mensagem explicativa, conforme exemplo."
   ]
  },
  {
   "cell_type": "code",
   "execution_count": 37,
   "metadata": {},
   "outputs": [
    {
     "name": "stdout",
     "output_type": "stream",
     "text": [
      "O pagamento para Lucca deve ser R$3000.00\n"
     ]
    }
   ],
   "source": [
    "nome = input(\"Nome: \")\n",
    "valorHora = float(input(\"Valor por hora: \"))\n",
    "horasTrab = float(input(\"Horas trabalhadas: \"))\n",
    "totalHoras = valorHora * horasTrab\n",
    "print(\"O pagamento para {} deve ser R${:.2f}\".format(nome, totalHoras ))"
   ]
  },
  {
   "cell_type": "markdown",
   "metadata": {},
   "source": [
    "Problema \"medidas\" - \n",
    "Fazer um programa para ler três medidas A, B e C. Em seguida, calcular e mostrar (imprimir os dados\n",
    "com quatro casas decimais):\n",
    "\n",
    "a) a área do quadrado que tem lado A\n",
    "\n",
    "b) a área do triângulo que base A e altura B\n",
    "\n",
    "c) a área do trapézio que tem bases A e B, e altura C"
   ]
  },
  {
   "cell_type": "code",
   "execution_count": null,
   "metadata": {},
   "outputs": [
    {
     "name": "stdout",
     "output_type": "stream",
     "text": [
      "AREA DO QUADRADO = 16.0000\n",
      "AREA DO TRIANGULO = 7.0000\n",
      "AREA DO TRAPEZIO = 19.5000\n"
     ]
    }
   ],
   "source": [
    "a = float(input(\"Digite a medida A: \"))\n",
    "b = float(input(\"Digite a medida B: \"))\n",
    "c = float(input(\"Digite a medida C: \"))\n",
    "\n",
    "quadrado = a * a\n",
    "triangulo = a * b / 2\n",
    "trapezio = ((a + b) * c) / 2\n",
    "\n",
    "print(\"AREA DO QUADRADO = {:.4f}\".format(quadrado))\n",
    "print(\"AREA DO TRIANGULO = {:.4f}\".format(triangulo))\n",
    "print(\"AREA DO TRAPEZIO = {:.4f}\".format(trapezio))"
   ]
  },
  {
   "cell_type": "markdown",
   "metadata": {},
   "source": [
    "Problema \"duracao\" - \n",
    "Fazer um programa para ler uma duração de tempo em segundos, daí imprimir na tela esta duração no\n",
    "formato horas:minutos:segundos."
   ]
  },
  {
   "cell_type": "code",
   "execution_count": 16,
   "metadata": {},
   "outputs": [
    {
     "name": "stdout",
     "output_type": "stream",
     "text": [
      "3 : 28 : 26\n"
     ]
    }
   ],
   "source": [
    "duracao = int(input(\"Por favor, entre com o número de segundos que deseja converter: \"))\n",
    "\n",
    "horas = duracao // 3600\n",
    "segundos_rest = duracao % 3600\n",
    "minutos = segundos_rest // 60\n",
    "segundos_rest = duracao % 60\n",
    "\n",
    "print(horas,\":\",minutos,\":\",segundos_rest)"
   ]
  },
  {
   "cell_type": "markdown",
   "metadata": {},
   "source": [
    "ESTRUTURA CONDICIONAL"
   ]
  },
  {
   "cell_type": "markdown",
   "metadata": {},
   "source": [
    "Problema \"notas\" - \n",
    "Fazer um programa para ler as duas notas que um aluno obteve no primeiro e segundo semestres de\n",
    "uma disciplina anual. Em seguida, mostrar a nota final que o aluno obteve (com uma casa decimal) no\n",
    "ano juntamente com um texto explicativo. Caso a nota final do aluno seja inferior a 60.00, mostrar a\n",
    "mensagem \"REPROVADO\""
   ]
  },
  {
   "cell_type": "code",
   "execution_count": 32,
   "metadata": {},
   "outputs": [
    {
     "name": "stdout",
     "output_type": "stream",
     "text": [
      "Média final 7.0 - APROVADO\n"
     ]
    }
   ],
   "source": [
    "# NOTA 1\n",
    "nota1 = float(input(\"Digite a primeira nota: \"))\n",
    "# NOTA 2\n",
    "nota2 = float(input(\"Digite a segunda nota: \"))\n",
    "\n",
    "media = (nota1 + nota2) / 2\n",
    "if media < 6.00:\n",
    "    print(\"Média final {} - REPROVADO\".format(media))\n",
    "else:\n",
    "    print(\"Média final {} - APROVADO\".format(media))\n"
   ]
  },
  {
   "cell_type": "markdown",
   "metadata": {},
   "source": [
    "Problema \"baskara\" - \n",
    "Fazer um programa para ler os três coeficientes de uma equação do segundo grau. Usando a fórmula\n",
    "de Baskara, calcular e mostrar os valores das raízes x1 e x2 da equação com quatro casas decimais,\n",
    "conforme exemplo. Se a equação não possuir raízes reais, mostrar uma mensagem."
   ]
  },
  {
   "cell_type": "code",
   "execution_count": 34,
   "metadata": {},
   "outputs": [
    {
     "name": "stdout",
     "output_type": "stream",
     "text": [
      "O valor das raizes é: 3.0 e -3.0\n"
     ]
    }
   ],
   "source": [
    "import math\n",
    "\n",
    "a = int(input (\"Qual o valor de a: \" ))\n",
    "b = int(input (\"Qual o valor de b: \" ))\n",
    "c = int(input (\"Qual o valor de c: \" ))\n",
    "\n",
    "Delta = b**2 - 4*a*c\n",
    "    \n",
    "x1 = ((-1*b) + math.sqrt(Delta))//2*a\n",
    "    \n",
    "x2 = ((-1*b)- math.sqrt(Delta))//2*a\n",
    "    \n",
    "if Delta == 0:\n",
    "    print (\"O valor da raiz é:\" + str(x1) )\n",
    "\n",
    "if Delta>0:\n",
    "    print (\"O valor das raizes é: \" + str(x1) + \" e \" + str(x2) )\n",
    "\n",
    "if Delta<0:\n",
    "    print (\"Essa equação não possui raizes reais\" )"
   ]
  },
  {
   "cell_type": "markdown",
   "metadata": {},
   "source": [
    "Problema \"menor_de_tres\" - \n",
    "Fazer um programa para ler três números inteiros. Em seguida, mostrar qual o menor dentre os três\n",
    "números lidos. Em caso de empate, mostrar apenas uma vez."
   ]
  },
  {
   "cell_type": "code",
   "execution_count": 41,
   "metadata": {},
   "outputs": [
    {
     "name": "stdout",
     "output_type": "stream",
     "text": [
      "O terceiro numero 1.0 é o menor\n"
     ]
    }
   ],
   "source": [
    "numero1 = float(input(\"Digite o primeiro número: \"))\n",
    "numero2 = float(input(\"Digite o segundo número: \"))\n",
    "numero3 = float(input(\"Digite o terceiro número: \"))\n",
    "\n",
    "if numero1 < numero2:\n",
    "    print(\"O primeiro numero {} é o menor\".format(numero1))\n",
    "elif numero2 < numero3:\n",
    "    print(\"O segundo numero {} é o menor\".format(numero2))\n",
    "else:\n",
    "    print(\"O terceiro numero {} é o menor\".format(numero3))\n",
    "\n"
   ]
  },
  {
   "cell_type": "markdown",
   "metadata": {},
   "source": [
    "Problema \"operadora\" - \n",
    "Uma operadora de telefonia cobra R$ 50.00 por um plano básico que dá direito a 100 minutos de\n",
    "telefone. Cada minuto que exceder a franquia de 100 minutos custa R$ 2.00. Fazer um programa para\n",
    "ler a quantidade de minutos que uma pessoa consumiu, daí mostrar o valor a ser pago."
   ]
  },
  {
   "cell_type": "code",
   "execution_count": null,
   "metadata": {},
   "outputs": [
    {
     "name": "stdout",
     "output_type": "stream",
     "text": [
      "Valor total à pagar R$60.00\n"
     ]
    }
   ],
   "source": [
    "franquia = 50.00\n",
    "quantMin = 100\n",
    "minExtra = 2.00\n",
    "\n",
    "\n",
    "minutos = float(input(\"Digite o total de minutos: \"))\n",
    "if minutos > 100:\n",
    "   totalPgar = franquia + minExtra * (minutos - 100)\n",
    "   print(\"Valor total à pagar R${:.2f}\".format(totalPgar))\n",
    "else:\n",
    "   print(\"Valor total do plano {:.2f}\".format(franquia))\n"
   ]
  },
  {
   "cell_type": "markdown",
   "metadata": {},
   "source": [
    "Problema \"troco_verificado\" - \n",
    "Fazer um programa para calcular o troco no processo de pagamento de um produto de uma mercearia.\n",
    "O programa deve ler o preço unitário do produto, a quantidade de unidades compradas deste produto,\n",
    "e o valor em dinheiro dado pelo cliente. Seu programa deve mostrar o valor do troco a ser devolvido\n",
    "ao cliente. Se o dinheiro dado pelo cliente não for suficiente, mostrar uma mensagem informando o\n",
    "valor restante conforme exemplo."
   ]
  },
  {
   "cell_type": "code",
   "execution_count": 89,
   "metadata": {},
   "outputs": [
    {
     "name": "stdout",
     "output_type": "stream",
     "text": [
      "Valor insufuciente. Faltam R$20.0 reais\n"
     ]
    }
   ],
   "source": [
    "preco = float(input(\"Preço unitário do produto: \"))\n",
    "qtdade = float(input(\"Quantidade comprada: \"))\n",
    "pgto = float(input(\"Dinheiro recebido: \"))\n",
    "\n",
    "total = preco * qtdade \n",
    "\n",
    "if pgto > total:\n",
    "    troco = pgto - total\n",
    "    print(\"TROCO R${:.2f}\".format(troco))\n",
    "elif pgto < total:\n",
    "    print(\"Valor insufuciente. Faltam R${} reais\".format(total - pgto))"
   ]
  },
  {
   "cell_type": "markdown",
   "metadata": {},
   "source": [
    "Problema \"glicose\" - \n",
    "Fazer um programa para ler a quantidade de glicose\n",
    "no sangue de uma pessoa e depois mostrar na tela a\n",
    "classificação desta glicose de acordo com a tabela de\n",
    "referência ao lado.\n",
    "\n",
    "Classificação Glicose\n",
    "Normal  - Até 100 mg/dl \n",
    "Elevado - Maior que 100 até 140 mg/dl\n",
    "Diabetes  - Maior de 140 mg/d"
   ]
  },
  {
   "cell_type": "code",
   "execution_count": 110,
   "metadata": {},
   "outputs": [
    {
     "name": "stdout",
     "output_type": "stream",
     "text": [
      "Classificação: ELEVADO\n"
     ]
    }
   ],
   "source": [
    "normal = 100\n",
    "elevado = 139\n",
    "diabetes = 140\n",
    "\n",
    "medida = (int(input(\"Digite a medida da glicose: \")))\n",
    "\n",
    "if medida <= normal:\n",
    "    print(\"Classificação: NORMAL\")\n",
    "elif medida > normal and medida < diabetes:\n",
    "    print(\"Classificação: ELEVADO\")\n",
    "else:\n",
    "    print(\"Classificação: DIABETES\")\n",
    "\n",
    "\n"
   ]
  },
  {
   "cell_type": "markdown",
   "metadata": {},
   "source": [
    "Problema \"dardo\" - \n",
    "No arremesso de dardo, o atleta tem três chances para lançar o dardo à maior distância que conseguir.\n",
    "Você deve criar um programa para, dadas as medidas das três tentativas de lançamento, informar qual\n",
    "foi a maior."
   ]
  },
  {
   "cell_type": "code",
   "execution_count": 114,
   "metadata": {},
   "outputs": [
    {
     "name": "stdout",
     "output_type": "stream",
     "text": [
      "O Terceiro arremeço com 89.15 foi o maior\n"
     ]
    }
   ],
   "source": [
    "arremeco1 = float(input(\"Digite a primeira distância: \"))\n",
    "arremeco2 = float(input(\"Digite a segunda distância: \"))\n",
    "arremeco3 = float(input(\"Digite a terceira distância: \"))\n",
    "\n",
    "if arremeco1 > arremeco2 and arremeco1 > arremeco3:\n",
    "    print(\"O primeiro arremeço com {} foi o maior\".format(arremeco1))\n",
    "elif arremeco2 > arremeco1 and arremeco2 > arremeco3:\n",
    "    print(\"O segundo arremeço com {} foi o maior\".format(arremeco2))\n",
    "else:\n",
    "    print(\"O Terceiro arremeço com {} foi o maior\".format(arremeco3))"
   ]
  },
  {
   "cell_type": "markdown",
   "metadata": {},
   "source": [
    "Problema \"temperatura\" - \n",
    "Deseja-se converter uma medida de temperatura da escala Celsius para Fahrenheit ou vice-versa. Para\n",
    "isso, você deve construir um programa que leia a letra \"C\" ou \"F\" indicando em qual escala vai ser\n",
    "informada uma temperatura. Em seguida o programa deve mostrar a temperatura na outra escala com\n",
    "duas casas decimais. A seguir é dada a fórmula para converter de Fahrenheit para Celsius (você deve\n",
    "deduzir a fórmula de Celsius para Fahrenheit):\n",
    "                                                   "
   ]
  },
  {
   "cell_type": "code",
   "execution_count": 136,
   "metadata": {},
   "outputs": [
    {
     "name": "stdout",
     "output_type": "stream",
     "text": [
      "Temperatura equivalente em Fahrenheit: 104.00\n"
     ]
    }
   ],
   "source": [
    "escala = str(input(\"Voce vai digitar a temperatura em qual escala (C/F)? \").upper())\n",
    "\n",
    "if escala == 'F':\n",
    "\tfahrenheit = float(input(\"Digite a temperatura em Fahrenheit: \"))\n",
    "\n",
    "\tcelsius = 5.0 / 9.0 * (fahrenheit - 32.0)\n",
    "\tprint(f\"Temperatura equivalente em Celsius: {celsius:.2f}\")\n",
    "else:\n",
    "\tcelsius = float(input(\"Digite a temperatura em Celsius: \"))\n",
    "\n",
    "\tfahrenheit = celsius * 9.0 / 5.0 + 32.0;\n",
    "\tprint(f\"Temperatura equivalente em Fahrenheit: {fahrenheit:.2f}\")\n"
   ]
  },
  {
   "cell_type": "markdown",
   "metadata": {},
   "source": [
    "Problema \"lanchonete\"  - (adaptado de URI 1038)\n",
    "Uma lanchonete possui vários produtos. Cada produto possui um código\n",
    "e um preço. Você deve fazer um programa para ler o código e a\n",
    "quantidade comprada de um produto (suponha um código válido), e daí\n",
    "informar qual o valor a ser pago, com duas casas decimais, conforme\n",
    "tabela de produtos ao lado.\n",
    "\n",
    "Cod - Preço do produto\n",
    "1 - R$ 5.00 2 - R$ 3.50 3 - R$ 4.80 4 - R$ 8.90 5 - R$ 7.32"
   ]
  },
  {
   "cell_type": "code",
   "execution_count": 156,
   "metadata": {},
   "outputs": [
    {
     "name": "stdout",
     "output_type": "stream",
     "text": [
      "Valor a pagar: R$ 8.90\n"
     ]
    }
   ],
   "source": [
    "codigo = int(input(\"Codigo do produto comprado: \"))\n",
    "qtd = int(input(\"Quantidade comprada: \"))\n",
    "\n",
    "pagar = 0\n",
    "if codigo == 1:\n",
    "\tpagar = qtd * 5.00\n",
    "elif codigo == 2:\n",
    "\tpagar = qtd * 3.50\n",
    "elif codigo == 3:\n",
    "\tpagar = qtd * 4.80\n",
    "elif codigo == 4:\n",
    "\tpagar = qtd * 8.90\n",
    "elif codigo == 5:\n",
    "\tpagar = qtd * 7.32\n",
    "\n",
    "print(f\"Valor a pagar: R$ {pagar:.2f}\")"
   ]
  }
 ],
 "metadata": {
  "kernelspec": {
   "display_name": "Python 3",
   "language": "python",
   "name": "python3"
  },
  "language_info": {
   "codemirror_mode": {
    "name": "ipython",
    "version": 3
   },
   "file_extension": ".py",
   "mimetype": "text/x-python",
   "name": "python",
   "nbconvert_exporter": "python",
   "pygments_lexer": "ipython3",
   "version": "3.12.4"
  }
 },
 "nbformat": 4,
 "nbformat_minor": 2
}
