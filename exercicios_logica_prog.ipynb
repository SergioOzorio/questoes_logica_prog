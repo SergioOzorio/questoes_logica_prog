{
 "cells": [
  {
   "cell_type": "markdown",
   "metadata": {},
   "source": [
    "Problema \"terreno\" - \n",
    "Fazer um programa para ler as medidas da largura e comprimento de um terreno retangular com uma\n",
    "casa decimal, bem como o valor do metro quadrado do terreno com duas casas decimais. Em seguida,\n",
    "o programa deve mostrar o valor da área do terreno, bem como o valor do preço do terreno, ambos com\n",
    "duas casas decimais, conforme exemplo"
   ]
  },
  {
   "cell_type": "code",
   "execution_count": 3,
   "metadata": {},
   "outputs": [
    {
     "name": "stdout",
     "output_type": "stream",
     "text": [
      "Preço do terreno R$60000.00\n"
     ]
    }
   ],
   "source": [
    "largura = float(input(\"Digite a largura do terreno: \"))\n",
    "comprimento = float(input(\"Digite a comprimento do terreno: \"))\n",
    "valor = float(input(\"Digite o valor do metro quadrado: \"))\n",
    "preco_terreno = largura * comprimento * valor\n",
    "\n",
    "print(\"Preço do terreno R${:.2f}\".format(preco_terreno))\n"
   ]
  },
  {
   "cell_type": "markdown",
   "metadata": {},
   "source": [
    "Problema \"retangulo\" - \n",
    "Fazer um programa para ler as medidas da base e altura de um retângulo. Em seguida, mostrar o valor\n",
    "da área, perímetro e diagonal deste retângulo, com quatro casas decimais, conforme exemplos."
   ]
  },
  {
   "cell_type": "code",
   "execution_count": null,
   "metadata": {},
   "outputs": [],
   "source": [
    "base = float(input(\"Base do retangulo: \"))\n",
    "altura = float(input(\"Altura do retangulo: \"))\n",
    "#diagonal = array.diagonal()\n",
    "print(\"AREA = {}\".format(base * altura))\n",
    "print(\"PERIMETRO = {}\".format(2 * (base + altura)))\n",
    "#print(\"DIAGONAL = \".format(diagonal()))"
   ]
  },
  {
   "cell_type": "markdown",
   "metadata": {},
   "source": [
    "Problema \"idades\" - \n",
    "Fazer um programa para ler o nome e idade de duas pessoas. Ao final mostrar uma mensagem com os\n",
    "nomes e a idade média entre essas pessoas, com uma casa decimal, conforme exemplo."
   ]
  },
  {
   "cell_type": "code",
   "execution_count": null,
   "metadata": {},
   "outputs": [],
   "source": [
    "print(\"Dados da primeira pessoa\")\n",
    "nome01 = input(\"Nome: \")\n",
    "print(nome01)\n",
    "idade01 = int(input(\"idade: \"))\n",
    "print(idade01)\n",
    "\n",
    "print(\"Dados da segunda pessoa\")\n",
    "nome02 = input(\"Nome: \")\n",
    "print(nome02)\n",
    "idade02 = int(input(\"idade: \"))\n",
    "print(idade02)\n",
    "\n",
    "media = (idade01 + idade02) /2\n",
    "\n",
    "print(f\"A idade média entre {idade01} e {idade02} é de {media}\")"
   ]
  },
  {
   "cell_type": "markdown",
   "metadata": {},
   "source": [
    "Problema \"soma\" - \n",
    "Fazer um programa para ler dois valores inteiros X e Y, e depois mostrar na tela o valor da soma destes\n",
    "números."
   ]
  },
  {
   "cell_type": "code",
   "execution_count": 9,
   "metadata": {},
   "outputs": [
    {
     "name": "stdout",
     "output_type": "stream",
     "text": [
      "A soma de x e y é: 20\n"
     ]
    }
   ],
   "source": [
    "x = int(input(\"Digite o valor de x: \"))\n",
    "y = int(input(\"Digite o valor de y: \"))\n",
    "soma = x + y\n",
    "print(\"A soma de x e y é: {}\".format(soma))"
   ]
  },
  {
   "cell_type": "markdown",
   "metadata": {},
   "source": [
    "Problema \"troco\" - \n",
    "Fazer um programa para calcular o troco no processo de pagamento de um produto de uma mercearia.\n",
    "O programa deve ler o preço unitário do produto, a quantidade de unidades compradas deste produto,\n",
    "e o valor em dinheiro dado pelo cliente (suponha que haja dinheiro suficiente). Seu programa deve\n",
    "mostrar o valor do troco a ser devolvido ao cliente."
   ]
  },
  {
   "cell_type": "code",
   "execution_count": 21,
   "metadata": {},
   "outputs": [
    {
     "name": "stdout",
     "output_type": "stream",
     "text": [
      "TROCO: 4.00\n"
     ]
    }
   ],
   "source": [
    "preco = float(input(\"Preço unitário do produto \"))\n",
    "quantidade = float(input(\"Quantidade comprada: \"))\n",
    "\n",
    "valor = float(input(\"Dinheiro recebido:: \"))\n",
    "troco = valor - preco * quantidade\n",
    "print(\"TROCO: {:.2f}\".format(troco))"
   ]
  },
  {
   "cell_type": "markdown",
   "metadata": {},
   "source": [
    "Problema \"circulo\" - \n",
    "Fazer um programa para ler o valor \"r\" do raio de um círculo, e depois mostrar o valor da área do\n",
    "círculo com três casas decimais. A fórmula da área do círculo é a seguinte: 𝑎𝑟𝑒𝑎 = 𝜋. r**2. Você pode\n",
    "usar o valor de 𝜋 fornecido pela biblioteca da sua linguagem de programação, ou então, se preferir, use\n",
    "diretamente o valor 3.14159."
   ]
  },
  {
   "cell_type": "code",
   "execution_count": 30,
   "metadata": {},
   "outputs": [
    {
     "name": "stdout",
     "output_type": "stream",
     "text": [
      "AREA = 547.391\n"
     ]
    }
   ],
   "source": [
    "pi = 3.14159\n",
    "r = float(input(\"Digite o valor do raio do circulo: \"))\n",
    "area = pi * (r**2)\n",
    "print(\"AREA = {:.3f}\".format(area))"
   ]
  },
  {
   "cell_type": "markdown",
   "metadata": {},
   "source": [
    "Problema \"pagamento\" - \n",
    "Fazer um programa para ler o nome de um(a) funcionário(a), o valor que ele(a) recebe por hora, e a\n",
    "quantidade de horas trabalhadas por ele(a). Ao final, mostrar o valor do pagamento do funcionário com\n",
    "uma mensagem explicativa, conforme exemplo."
   ]
  },
  {
   "cell_type": "code",
   "execution_count": 37,
   "metadata": {},
   "outputs": [
    {
     "name": "stdout",
     "output_type": "stream",
     "text": [
      "O pagamento para Lucca deve ser R$3000.00\n"
     ]
    }
   ],
   "source": [
    "nome = input(\"Nome: \")\n",
    "valorHora = float(input(\"Valor por hora: \"))\n",
    "horasTrab = float(input(\"Horas trabalhadas: \"))\n",
    "totalHoras = valorHora * horasTrab\n",
    "print(\"O pagamento para {} deve ser R${:.2f}\".format(nome, totalHoras ))"
   ]
  },
  {
   "cell_type": "markdown",
   "metadata": {},
   "source": [
    "Problema \"medidas\" - \n",
    "Fazer um programa para ler três medidas A, B e C. Em seguida, calcular e mostrar (imprimir os dados\n",
    "com quatro casas decimais):\n",
    "\n",
    "a) a área do quadrado que tem lado A\n",
    "\n",
    "b) a área do triângulo retângulo que base A e altura B\n",
    "\n",
    "c) a área do trapézio que tem bases A e B, e altura C"
   ]
  },
  {
   "cell_type": "code",
   "execution_count": null,
   "metadata": {},
   "outputs": [
    {
     "name": "stdout",
     "output_type": "stream",
     "text": [
      "AREA DO QUADRADO = 16.0000\n",
      "AREA DO TRIANGULO = 14.0\n",
      "AREA DO TRAPEZIO = 72.8\n"
     ]
    }
   ],
   "source": [
    "a = float(input(\"Digite a medida A: \"))\n",
    "b = float(input(\"Digite a medida B: \"))\n",
    "c = float(input(\"Digite a medida C: \"))\n",
    "print(\"AREA DO QUADRADO = {:.4f}\".format(a * 4))\n",
    "print(\"AREA DO TRIANGULO = {:.4f}\".format(a * b))\n",
    "print(\"AREA DO TRAPEZIO = {:.4f}\".format(a * b *c))"
   ]
  }
 ],
 "metadata": {
  "kernelspec": {
   "display_name": "Python 3",
   "language": "python",
   "name": "python3"
  },
  "language_info": {
   "codemirror_mode": {
    "name": "ipython",
    "version": 3
   },
   "file_extension": ".py",
   "mimetype": "text/x-python",
   "name": "python",
   "nbconvert_exporter": "python",
   "pygments_lexer": "ipython3",
   "version": "3.12.4"
  }
 },
 "nbformat": 4,
 "nbformat_minor": 2
}
