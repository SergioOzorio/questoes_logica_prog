{
 "cells": [
  {
   "cell_type": "markdown",
   "metadata": {},
   "source": [
    "ESTRUTURA SEQUENCIAL"
   ]
  },
  {
   "cell_type": "markdown",
   "metadata": {},
   "source": [
    "Problema \"terreno\" - \n",
    "Fazer um programa para ler as medidas da largura e comprimento de um terreno retangular com uma\n",
    "casa decimal, bem como o valor do metro quadrado do terreno com duas casas decimais. Em seguida,\n",
    "o programa deve mostrar o valor da área do terreno, bem como o valor do preço do terreno, ambos com\n",
    "duas casas decimais, conforme exemplo"
   ]
  },
  {
   "cell_type": "code",
   "execution_count": 3,
   "metadata": {},
   "outputs": [
    {
     "name": "stdout",
     "output_type": "stream",
     "text": [
      "Preço do terreno R$60000.00\n"
     ]
    }
   ],
   "source": [
    "largura = float(input(\"Digite a largura do terreno: \"))\n",
    "comprimento = float(input(\"Digite a comprimento do terreno: \"))\n",
    "valor = float(input(\"Digite o valor do metro quadrado: \"))\n",
    "preco_terreno = largura * comprimento * valor\n",
    "\n",
    "print(\"Preço do terreno R${:.2f}\".format(preco_terreno))\n"
   ]
  },
  {
   "cell_type": "markdown",
   "metadata": {},
   "source": [
    "Problema \"retangulo\" - \n",
    "Fazer um programa para ler as medidas da base e altura de um retângulo. Em seguida, mostrar o valor\n",
    "da área, perímetro e diagonal deste retângulo, com quatro casas decimais, conforme exemplos."
   ]
  },
  {
   "cell_type": "code",
   "execution_count": null,
   "metadata": {},
   "outputs": [],
   "source": [
    "base = float(input(\"Base do retangulo: \"))\n",
    "altura = float(input(\"Altura do retangulo: \"))\n",
    "#diagonal = array.diagonal()\n",
    "print(\"AREA = {}\".format(base * altura))\n",
    "print(\"PERIMETRO = {}\".format(2 * (base + altura)))\n",
    "#print(\"DIAGONAL = \".format(diagonal()))"
   ]
  },
  {
   "cell_type": "markdown",
   "metadata": {},
   "source": [
    "Problema \"idades\" - \n",
    "Fazer um programa para ler o nome e idade de duas pessoas. Ao final mostrar uma mensagem com os\n",
    "nomes e a idade média entre essas pessoas, com uma casa decimal, conforme exemplo."
   ]
  },
  {
   "cell_type": "code",
   "execution_count": null,
   "metadata": {},
   "outputs": [],
   "source": [
    "print(\"Dados da primeira pessoa\")\n",
    "nome01 = input(\"Nome: \")\n",
    "print(nome01)\n",
    "idade01 = int(input(\"idade: \"))\n",
    "print(idade01)\n",
    "\n",
    "print(\"Dados da segunda pessoa\")\n",
    "nome02 = input(\"Nome: \")\n",
    "print(nome02)\n",
    "idade02 = int(input(\"idade: \"))\n",
    "print(idade02)\n",
    "\n",
    "media = (idade01 + idade02) /2\n",
    "\n",
    "print(f\"A idade média entre {idade01} e {idade02} é de {media}\")"
   ]
  },
  {
   "cell_type": "markdown",
   "metadata": {},
   "source": [
    "Problema \"soma\" - \n",
    "Fazer um programa para ler dois valores inteiros X e Y, e depois mostrar na tela o valor da soma destes\n",
    "números."
   ]
  },
  {
   "cell_type": "code",
   "execution_count": 9,
   "metadata": {},
   "outputs": [
    {
     "name": "stdout",
     "output_type": "stream",
     "text": [
      "A soma de x e y é: 20\n"
     ]
    }
   ],
   "source": [
    "x = int(input(\"Digite o valor de x: \"))\n",
    "y = int(input(\"Digite o valor de y: \"))\n",
    "soma = x + y\n",
    "print(\"A soma de x e y é: {}\".format(soma))"
   ]
  },
  {
   "cell_type": "markdown",
   "metadata": {},
   "source": [
    "Problema \"troco\" - \n",
    "Fazer um programa para calcular o troco no processo de pagamento de um produto de uma mercearia.\n",
    "O programa deve ler o preço unitário do produto, a quantidade de unidades compradas deste produto,\n",
    "e o valor em dinheiro dado pelo cliente (suponha que haja dinheiro suficiente). Seu programa deve\n",
    "mostrar o valor do troco a ser devolvido ao cliente."
   ]
  },
  {
   "cell_type": "code",
   "execution_count": 21,
   "metadata": {},
   "outputs": [
    {
     "name": "stdout",
     "output_type": "stream",
     "text": [
      "TROCO: 4.00\n"
     ]
    }
   ],
   "source": [
    "preco = float(input(\"Preço unitário do produto \"))\n",
    "quantidade = float(input(\"Quantidade comprada: \"))\n",
    "\n",
    "valor = float(input(\"Dinheiro recebido:: \"))\n",
    "troco = valor - preco * quantidade\n",
    "print(\"TROCO: {:.2f}\".format(troco))"
   ]
  },
  {
   "cell_type": "markdown",
   "metadata": {},
   "source": [
    "Problema \"circulo\" - \n",
    "Fazer um programa para ler o valor \"r\" do raio de um círculo, e depois mostrar o valor da área do\n",
    "círculo com três casas decimais. A fórmula da área do círculo é a seguinte: 𝑎𝑟𝑒𝑎 = 𝜋. r**2. Você pode\n",
    "usar o valor de 𝜋 fornecido pela biblioteca da sua linguagem de programação, ou então, se preferir, use\n",
    "diretamente o valor 3.14159."
   ]
  },
  {
   "cell_type": "code",
   "execution_count": 30,
   "metadata": {},
   "outputs": [
    {
     "name": "stdout",
     "output_type": "stream",
     "text": [
      "AREA = 547.391\n"
     ]
    }
   ],
   "source": [
    "pi = 3.14159\n",
    "r = float(input(\"Digite o valor do raio do circulo: \"))\n",
    "area = pi * (r**2)\n",
    "print(\"AREA = {:.3f}\".format(area))"
   ]
  },
  {
   "cell_type": "markdown",
   "metadata": {},
   "source": [
    "Problema \"pagamento\" - \n",
    "Fazer um programa para ler o nome de um(a) funcionário(a), o valor que ele(a) recebe por hora, e a\n",
    "quantidade de horas trabalhadas por ele(a). Ao final, mostrar o valor do pagamento do funcionário com\n",
    "uma mensagem explicativa, conforme exemplo."
   ]
  },
  {
   "cell_type": "code",
   "execution_count": 37,
   "metadata": {},
   "outputs": [
    {
     "name": "stdout",
     "output_type": "stream",
     "text": [
      "O pagamento para Lucca deve ser R$3000.00\n"
     ]
    }
   ],
   "source": [
    "nome = input(\"Nome: \")\n",
    "valorHora = float(input(\"Valor por hora: \"))\n",
    "horasTrab = float(input(\"Horas trabalhadas: \"))\n",
    "totalHoras = valorHora * horasTrab\n",
    "print(\"O pagamento para {} deve ser R${:.2f}\".format(nome, totalHoras ))"
   ]
  },
  {
   "cell_type": "markdown",
   "metadata": {},
   "source": [
    "Problema \"medidas\" - \n",
    "Fazer um programa para ler três medidas A, B e C. Em seguida, calcular e mostrar (imprimir os dados\n",
    "com quatro casas decimais):\n",
    "\n",
    "a) a área do quadrado que tem lado A\n",
    "\n",
    "b) a área do triângulo que base A e altura B\n",
    "\n",
    "c) a área do trapézio que tem bases A e B, e altura C"
   ]
  },
  {
   "cell_type": "code",
   "execution_count": null,
   "metadata": {},
   "outputs": [
    {
     "name": "stdout",
     "output_type": "stream",
     "text": [
      "AREA DO QUADRADO = 16.0000\n",
      "AREA DO TRIANGULO = 7.0000\n",
      "AREA DO TRAPEZIO = 19.5000\n"
     ]
    }
   ],
   "source": [
    "a = float(input(\"Digite a medida A: \"))\n",
    "b = float(input(\"Digite a medida B: \"))\n",
    "c = float(input(\"Digite a medida C: \"))\n",
    "\n",
    "quadrado = a * a\n",
    "triangulo = a * b / 2\n",
    "trapezio = ((a + b) * c) / 2\n",
    "\n",
    "print(\"AREA DO QUADRADO = {:.4f}\".format(quadrado))\n",
    "print(\"AREA DO TRIANGULO = {:.4f}\".format(triangulo))\n",
    "print(\"AREA DO TRAPEZIO = {:.4f}\".format(trapezio))"
   ]
  },
  {
   "cell_type": "markdown",
   "metadata": {},
   "source": [
    "Problema \"duracao\" - \n",
    "Fazer um programa para ler uma duração de tempo em segundos, daí imprimir na tela esta duração no\n",
    "formato horas:minutos:segundos."
   ]
  },
  {
   "cell_type": "code",
   "execution_count": 16,
   "metadata": {},
   "outputs": [
    {
     "name": "stdout",
     "output_type": "stream",
     "text": [
      "3 : 28 : 26\n"
     ]
    }
   ],
   "source": [
    "duracao = int(input(\"Por favor, entre com o número de segundos que deseja converter: \"))\n",
    "\n",
    "horas = duracao // 3600\n",
    "segundos_rest = duracao % 3600\n",
    "minutos = segundos_rest // 60\n",
    "segundos_rest = duracao % 60\n",
    "\n",
    "print(horas,\":\",minutos,\":\",segundos_rest)"
   ]
  },
  {
   "cell_type": "markdown",
   "metadata": {},
   "source": [
    "ESTRUTURA CONDICIONAL"
   ]
  },
  {
   "cell_type": "markdown",
   "metadata": {},
   "source": [
    "Problema \"notas\" - \n",
    "Fazer um programa para ler as duas notas que um aluno obteve no primeiro e segundo semestres de\n",
    "uma disciplina anual. Em seguida, mostrar a nota final que o aluno obteve (com uma casa decimal) no\n",
    "ano juntamente com um texto explicativo. Caso a nota final do aluno seja inferior a 60.00, mostrar a\n",
    "mensagem \"REPROVADO\""
   ]
  },
  {
   "cell_type": "code",
   "execution_count": 32,
   "metadata": {},
   "outputs": [
    {
     "name": "stdout",
     "output_type": "stream",
     "text": [
      "Média final 7.0 - APROVADO\n"
     ]
    }
   ],
   "source": [
    "# NOTA 1\n",
    "nota1 = float(input(\"Digite a primeira nota: \"))\n",
    "# NOTA 2\n",
    "nota2 = float(input(\"Digite a segunda nota: \"))\n",
    "\n",
    "media = (nota1 + nota2) / 2\n",
    "if media < 6.00:\n",
    "    print(\"Média final {} - REPROVADO\".format(media))\n",
    "else:\n",
    "    print(\"Média final {} - APROVADO\".format(media))\n"
   ]
  },
  {
   "cell_type": "markdown",
   "metadata": {},
   "source": [
    "Problema \"baskara\" - \n",
    "Fazer um programa para ler os três coeficientes de uma equação do segundo grau. Usando a fórmula\n",
    "de Baskara, calcular e mostrar os valores das raízes x1 e x2 da equação com quatro casas decimais,\n",
    "conforme exemplo. Se a equação não possuir raízes reais, mostrar uma mensagem."
   ]
  },
  {
   "cell_type": "code",
   "execution_count": 34,
   "metadata": {},
   "outputs": [
    {
     "name": "stdout",
     "output_type": "stream",
     "text": [
      "O valor das raizes é: 3.0 e -3.0\n"
     ]
    }
   ],
   "source": [
    "import math\n",
    "\n",
    "a = int(input (\"Qual o valor de a: \" ))\n",
    "b = int(input (\"Qual o valor de b: \" ))\n",
    "c = int(input (\"Qual o valor de c: \" ))\n",
    "\n",
    "Delta = b**2 - 4*a*c\n",
    "    \n",
    "x1 = ((-1*b) + math.sqrt(Delta))//2*a\n",
    "    \n",
    "x2 = ((-1*b)- math.sqrt(Delta))//2*a\n",
    "    \n",
    "if Delta == 0:\n",
    "    print (\"O valor da raiz é:\" + str(x1) )\n",
    "\n",
    "if Delta>0:\n",
    "    print (\"O valor das raizes é: \" + str(x1) + \" e \" + str(x2) )\n",
    "\n",
    "if Delta<0:\n",
    "    print (\"Essa equação não possui raizes reais\" )"
   ]
  },
  {
   "cell_type": "markdown",
   "metadata": {},
   "source": [
    "Problema \"menor_de_tres\" - \n",
    "Fazer um programa para ler três números inteiros. Em seguida, mostrar qual o menor dentre os três\n",
    "números lidos. Em caso de empate, mostrar apenas uma vez."
   ]
  },
  {
   "cell_type": "code",
   "execution_count": 41,
   "metadata": {},
   "outputs": [
    {
     "name": "stdout",
     "output_type": "stream",
     "text": [
      "O terceiro numero 1.0 é o menor\n"
     ]
    }
   ],
   "source": [
    "numero1 = float(input(\"Digite o primeiro número: \"))\n",
    "numero2 = float(input(\"Digite o segundo número: \"))\n",
    "numero3 = float(input(\"Digite o terceiro número: \"))\n",
    "\n",
    "if numero1 < numero2:\n",
    "    print(\"O primeiro numero {} é o menor\".format(numero1))\n",
    "elif numero2 < numero3:\n",
    "    print(\"O segundo numero {} é o menor\".format(numero2))\n",
    "else:\n",
    "    print(\"O terceiro numero {} é o menor\".format(numero3))\n",
    "\n"
   ]
  }
 ],
 "metadata": {
  "kernelspec": {
   "display_name": "Python 3",
   "language": "python",
   "name": "python3"
  },
  "language_info": {
   "codemirror_mode": {
    "name": "ipython",
    "version": 3
   },
   "file_extension": ".py",
   "mimetype": "text/x-python",
   "name": "python",
   "nbconvert_exporter": "python",
   "pygments_lexer": "ipython3",
   "version": "3.12.4"
  }
 },
 "nbformat": 4,
 "nbformat_minor": 2
}
