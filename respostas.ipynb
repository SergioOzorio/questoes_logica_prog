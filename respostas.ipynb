{
 "cells": [
  {
   "cell_type": "markdown",
   "metadata": {},
   "source": [
    "1 - Fazer um programa para ler as duas notas que um aluno obteve no primeiro e segundo semestres de\n",
    "uma disciplina anual. Em seguida, mostrar a nota final que o aluno obteve (com uma casa decimal) no\n",
    "ano juntamente com um texto explicativo. Caso a nota final do aluno seja inferior a 6.00, mostrar a\n",
    "mensagem \"REPROVADO\", conforme exemplos."
   ]
  },
  {
   "cell_type": "code",
   "execution_count": null,
   "metadata": {},
   "outputs": [
    {
     "name": "stdout",
     "output_type": "stream",
     "text": [
      "REPROVAADO\n"
     ]
    }
   ],
   "source": [
    "nota1 = float(input(\"Digite a primeira nota: \"))\n",
    "nota2 = float(input(\"Digite a segunda nota: \"))\n",
    "\n",
    "media = (nota1  + nota2)/2\n",
    "if media < 6:\n",
    "    print(\"REPROVADO\")\n",
    "else:\n",
    "    print(\"APROVADO\")\n"
   ]
  },
  {
   "cell_type": "markdown",
   "metadata": {},
   "source": [
    "2 - Fazer um programa para ler os três coeficientes de uma equação do segundo grau. Usando a fórmula\n",
    "de Baskara, calcular e mostrar os valores das raízes x1 e x2 da equação com quatro casas decimais,\n",
    "conforme exemplo. Se a equação não possuir raízes reais, mostrar uma mensagem."
   ]
  },
  {
   "cell_type": "code",
   "execution_count": null,
   "metadata": {},
   "outputs": [],
   "source": []
  }
 ],
 "metadata": {
  "kernelspec": {
   "display_name": "Python 3",
   "language": "python",
   "name": "python3"
  },
  "language_info": {
   "codemirror_mode": {
    "name": "ipython",
    "version": 3
   },
   "file_extension": ".py",
   "mimetype": "text/x-python",
   "name": "python",
   "nbconvert_exporter": "python",
   "pygments_lexer": "ipython3",
   "version": "3.10.12"
  }
 },
 "nbformat": 4,
 "nbformat_minor": 2
}
